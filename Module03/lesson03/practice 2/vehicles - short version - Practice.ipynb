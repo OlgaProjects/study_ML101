{
 "cells": [
  {
   "cell_type": "markdown",
   "metadata": {},
   "source": [
    "# \"Vehicles.\""
   ]
  },
  {
   "cell_type": "markdown",
   "metadata": {},
   "source": [
    "### _\"Recognizing vehicle type from its silhouette\" (Classification task)._"
   ]
  },
  {
   "cell_type": "markdown",
   "metadata": {},
   "source": [
    "## Table of Contents\n",
    "\n",
    "\n",
    "## Part 0: Introduction\n",
    "\n",
    "### Overview\n",
    "The dataset that's we see here contains 19 columns and 846 entries of data about vehicle types.\n",
    "    \n",
    "**Метаданные:**\n",
    "    \n",
    "* **Class (target)** \n",
    "\n",
    "* **COMPACTNESS**\n",
    "\n",
    "* **CIRCULARITY** \n",
    "\n",
    "* **DISTANCE_CIRCULARITY** \n",
    "\n",
    "* **RADIUS_RATIO** \n",
    "\n",
    "* **PR.AXIS_ASPECT_RATIO** \n",
    "\n",
    "* **MAX.LENGTH_ASPECT_RATIO**\n",
    "\n",
    "* **SCATTER_RATIO** \n",
    "\n",
    "* **ELONGATEDNESS** \n",
    "\n",
    "* **PR.AXIS_RECTANGULARITY** \n",
    "\n",
    "* **MAX.LENGTH_RECTANGULARITY** \n",
    "\n",
    "* **SCALED_VARIANCE_MAJOR** \n",
    "\n",
    "* **SCALED_VARIANCE_MINOR** \n",
    "\n",
    "* **SCALED_RADIUS_OF_GYRATION** \n",
    "\n",
    "* **SKEWNESS_ABOUT_MAJOR** \n",
    "\n",
    "* **SKEWNESS_ABOUT_MINOR** \n",
    "\n",
    "* **KURTOSIS_ABOUT_MAJOR** \n",
    "\n",
    "* **KURTOSIS_ABOUT_MINOR** \n",
    "\n",
    "* **HOLLOWS_RATIO** \n",
    "\n",
    "\n",
    "### Questions:\n",
    "    \n",
    "Определите класс транспортного средства по набору данных, описывающих геометрические особенности силуэтов транспортных средств, полученных по фотографиям для распознавания изображений (use multi-class classification; check balance of classes; calculate perdictions).\n",
    "\n",
    "\n",
    "## [Part 1: Import, Load Data](#Part-1:-Import,-Load-Data.)\n",
    "* ### Import libraries, Read data from ‘.csv’ file\n",
    "\n",
    "## [Part 2: Exploratory Data Analysis](#Part-2:-Exploratory-Data-Analysis.)\n",
    "* ### Info, Head, Describe\n",
    "* ### 'Class' attribute value counts and visualisation\n",
    "* ### Label encoder for 'Class' attribute\n",
    "* ### Vizualisation of all attributes\n",
    "* ### Correlation list and plot of each attribute\n",
    "* ### Drop column 'Class'\n",
    "\n",
    "## [Part 3: Data Wrangling and Transformation](#Part-3:-Data-Wrangling-and-Transformation.)\n",
    "* ### StandardScaler\n",
    "* ### Creating datasets for ML part\n",
    "* ### 'Train\\Test' splitting method\n",
    "\n",
    "## [Part 4: Machine Learning](#Part-4:-Machine-Learning.)\n",
    "* ### Build, train and evaluate model\n",
    "    * #### SVC \n",
    "    * #### Classification report\n",
    "    * #### Confusion Matrix\n",
    "    * #### Misclassification plot\n",
    "    * #### Comparison table between Actual 'Class' and Predicted 'Class'\n",
    "\n",
    "## [Conclusion](#Conclusion.)\n",
    "\n",
    "\n"
   ]
  },
  {
   "cell_type": "markdown",
   "metadata": {},
   "source": [
    "## Part 1: Import, Load Data."
   ]
  },
  {
   "cell_type": "markdown",
   "metadata": {},
   "source": [
    "* ### Import libraries"
   ]
  },
  {
   "cell_type": "code",
   "execution_count": 31,
   "metadata": {},
   "outputs": [],
   "source": [
    "# import standard libraries\n",
    "\n",
    "import numpy as np\n",
    "import pandas as pd\n",
    "import matplotlib.pyplot as plt\n",
    "import seaborn as sns\n",
    "from scipy import stats\n",
    "from scipy.stats import norm\n",
    "%matplotlib inline\n",
    "sns.set()\n",
    "\n",
    "import sklearn.metrics as metrics\n",
    "from sklearn.metrics import accuracy_score, confusion_matrix, classification_report \n",
    "from sklearn.model_selection import train_test_split \n",
    "from sklearn.preprocessing import LabelEncoder, StandardScaler\n",
    "\n",
    "from sklearn.svm import SVC\n",
    "\n",
    "\n",
    "from vehicles_helper import *\n",
    "\n",
    "import warnings\n",
    "warnings.filterwarnings('ignore')\n"
   ]
  },
  {
   "cell_type": "markdown",
   "metadata": {},
   "source": [
    "* ### Read data from ‘.csv’ file"
   ]
  },
  {
   "cell_type": "code",
   "execution_count": 32,
   "metadata": {},
   "outputs": [],
   "source": [
    "# read data from '.csv' file\n",
    "dataset = pd.read_csv('vehicles.csv') \n",
    "\n",
    "# initialisation of target\n",
    "target = dataset['Class']"
   ]
  },
  {
   "cell_type": "markdown",
   "metadata": {},
   "source": [
    "## Part 2: Exploratory Data Analysis."
   ]
  },
  {
   "cell_type": "markdown",
   "metadata": {},
   "source": [
    "* ### Info"
   ]
  },
  {
   "cell_type": "code",
   "execution_count": 33,
   "metadata": {
    "scrolled": false
   },
   "outputs": [
    {
     "name": "stdout",
     "output_type": "stream",
     "text": [
      "<class 'pandas.core.frame.DataFrame'>\n",
      "RangeIndex: 846 entries, 0 to 845\n",
      "Data columns (total 19 columns):\n",
      " #   Column                     Non-Null Count  Dtype \n",
      "---  ------                     --------------  ----- \n",
      " 0   COMPACTNESS                846 non-null    int64 \n",
      " 1   CIRCULARITY                846 non-null    int64 \n",
      " 2   DISTANCE_CIRCULARITY       846 non-null    int64 \n",
      " 3   RADIUS_RATIO               846 non-null    int64 \n",
      " 4   PR.AXIS_ASPECT_RATIO       846 non-null    int64 \n",
      " 5   MAX.LENGTH_ASPECT_RATIO    846 non-null    int64 \n",
      " 6   SCATTER_RATIO              846 non-null    int64 \n",
      " 7   ELONGATEDNESS              846 non-null    int64 \n",
      " 8   PR.AXIS_RECTANGULARITY     846 non-null    int64 \n",
      " 9   MAX.LENGTH_RECTANGULARITY  846 non-null    int64 \n",
      " 10  SCALED_VARIANCE_MAJOR      846 non-null    int64 \n",
      " 11  SCALED_VARIANCE_MINOR      846 non-null    int64 \n",
      " 12  SCALED_RADIUS_OF_GYRATION  846 non-null    int64 \n",
      " 13  SKEWNESS_ABOUT_MAJOR       846 non-null    int64 \n",
      " 14  SKEWNESS_ABOUT_MINOR       846 non-null    int64 \n",
      " 15  KURTOSIS_ABOUT_MAJOR       846 non-null    int64 \n",
      " 16  KURTOSIS_ABOUT_MINOR       846 non-null    int64 \n",
      " 17  HOLLOWS_RATIO              846 non-null    int64 \n",
      " 18  Class                      846 non-null    object\n",
      "dtypes: int64(18), object(1)\n",
      "memory usage: 125.7+ KB\n"
     ]
    }
   ],
   "source": [
    "# print the full summary of the dataset  \n",
    "dataset.info()\n"
   ]
  },
  {
   "cell_type": "markdown",
   "metadata": {},
   "source": [
    "###### Dataset consists of 846 rows and 19 columns; \n",
    "\n",
    "has 2 datatypes: int64(18), object(1);\n",
    "\n",
    "has no missing values."
   ]
  },
  {
   "cell_type": "markdown",
   "metadata": {},
   "source": [
    "* ### Head"
   ]
  },
  {
   "cell_type": "code",
   "execution_count": 34,
   "metadata": {},
   "outputs": [
    {
     "data": {
      "text/html": [
       "<div>\n",
       "<style scoped>\n",
       "    .dataframe tbody tr th:only-of-type {\n",
       "        vertical-align: middle;\n",
       "    }\n",
       "\n",
       "    .dataframe tbody tr th {\n",
       "        vertical-align: top;\n",
       "    }\n",
       "\n",
       "    .dataframe thead th {\n",
       "        text-align: right;\n",
       "    }\n",
       "</style>\n",
       "<table border=\"1\" class=\"dataframe\">\n",
       "  <thead>\n",
       "    <tr style=\"text-align: right;\">\n",
       "      <th></th>\n",
       "      <th>COMPACTNESS</th>\n",
       "      <th>CIRCULARITY</th>\n",
       "      <th>DISTANCE_CIRCULARITY</th>\n",
       "      <th>RADIUS_RATIO</th>\n",
       "      <th>PR.AXIS_ASPECT_RATIO</th>\n",
       "      <th>MAX.LENGTH_ASPECT_RATIO</th>\n",
       "      <th>SCATTER_RATIO</th>\n",
       "      <th>ELONGATEDNESS</th>\n",
       "      <th>PR.AXIS_RECTANGULARITY</th>\n",
       "      <th>MAX.LENGTH_RECTANGULARITY</th>\n",
       "      <th>SCALED_VARIANCE_MAJOR</th>\n",
       "      <th>SCALED_VARIANCE_MINOR</th>\n",
       "      <th>SCALED_RADIUS_OF_GYRATION</th>\n",
       "      <th>SKEWNESS_ABOUT_MAJOR</th>\n",
       "      <th>SKEWNESS_ABOUT_MINOR</th>\n",
       "      <th>KURTOSIS_ABOUT_MAJOR</th>\n",
       "      <th>KURTOSIS_ABOUT_MINOR</th>\n",
       "      <th>HOLLOWS_RATIO</th>\n",
       "      <th>Class</th>\n",
       "    </tr>\n",
       "  </thead>\n",
       "  <tbody>\n",
       "    <tr>\n",
       "      <th>0</th>\n",
       "      <td>95</td>\n",
       "      <td>48</td>\n",
       "      <td>83</td>\n",
       "      <td>178</td>\n",
       "      <td>72</td>\n",
       "      <td>10</td>\n",
       "      <td>162</td>\n",
       "      <td>42</td>\n",
       "      <td>20</td>\n",
       "      <td>159</td>\n",
       "      <td>176</td>\n",
       "      <td>379</td>\n",
       "      <td>184</td>\n",
       "      <td>70</td>\n",
       "      <td>6</td>\n",
       "      <td>16</td>\n",
       "      <td>187</td>\n",
       "      <td>197</td>\n",
       "      <td>van</td>\n",
       "    </tr>\n",
       "    <tr>\n",
       "      <th>1</th>\n",
       "      <td>91</td>\n",
       "      <td>41</td>\n",
       "      <td>84</td>\n",
       "      <td>141</td>\n",
       "      <td>57</td>\n",
       "      <td>9</td>\n",
       "      <td>149</td>\n",
       "      <td>45</td>\n",
       "      <td>19</td>\n",
       "      <td>143</td>\n",
       "      <td>170</td>\n",
       "      <td>330</td>\n",
       "      <td>158</td>\n",
       "      <td>72</td>\n",
       "      <td>9</td>\n",
       "      <td>14</td>\n",
       "      <td>189</td>\n",
       "      <td>199</td>\n",
       "      <td>van</td>\n",
       "    </tr>\n",
       "    <tr>\n",
       "      <th>2</th>\n",
       "      <td>104</td>\n",
       "      <td>50</td>\n",
       "      <td>106</td>\n",
       "      <td>209</td>\n",
       "      <td>66</td>\n",
       "      <td>10</td>\n",
       "      <td>207</td>\n",
       "      <td>32</td>\n",
       "      <td>23</td>\n",
       "      <td>158</td>\n",
       "      <td>223</td>\n",
       "      <td>635</td>\n",
       "      <td>220</td>\n",
       "      <td>73</td>\n",
       "      <td>14</td>\n",
       "      <td>9</td>\n",
       "      <td>188</td>\n",
       "      <td>196</td>\n",
       "      <td>saab</td>\n",
       "    </tr>\n",
       "    <tr>\n",
       "      <th>3</th>\n",
       "      <td>93</td>\n",
       "      <td>41</td>\n",
       "      <td>82</td>\n",
       "      <td>159</td>\n",
       "      <td>63</td>\n",
       "      <td>9</td>\n",
       "      <td>144</td>\n",
       "      <td>46</td>\n",
       "      <td>19</td>\n",
       "      <td>143</td>\n",
       "      <td>160</td>\n",
       "      <td>309</td>\n",
       "      <td>127</td>\n",
       "      <td>63</td>\n",
       "      <td>6</td>\n",
       "      <td>10</td>\n",
       "      <td>199</td>\n",
       "      <td>207</td>\n",
       "      <td>van</td>\n",
       "    </tr>\n",
       "    <tr>\n",
       "      <th>4</th>\n",
       "      <td>85</td>\n",
       "      <td>44</td>\n",
       "      <td>70</td>\n",
       "      <td>205</td>\n",
       "      <td>103</td>\n",
       "      <td>52</td>\n",
       "      <td>149</td>\n",
       "      <td>45</td>\n",
       "      <td>19</td>\n",
       "      <td>144</td>\n",
       "      <td>241</td>\n",
       "      <td>325</td>\n",
       "      <td>188</td>\n",
       "      <td>127</td>\n",
       "      <td>9</td>\n",
       "      <td>11</td>\n",
       "      <td>180</td>\n",
       "      <td>183</td>\n",
       "      <td>bus</td>\n",
       "    </tr>\n",
       "  </tbody>\n",
       "</table>\n",
       "</div>"
      ],
      "text/plain": [
       "   COMPACTNESS  CIRCULARITY  DISTANCE_CIRCULARITY  RADIUS_RATIO  \\\n",
       "0           95           48                    83           178   \n",
       "1           91           41                    84           141   \n",
       "2          104           50                   106           209   \n",
       "3           93           41                    82           159   \n",
       "4           85           44                    70           205   \n",
       "\n",
       "   PR.AXIS_ASPECT_RATIO  MAX.LENGTH_ASPECT_RATIO  SCATTER_RATIO  \\\n",
       "0                    72                       10            162   \n",
       "1                    57                        9            149   \n",
       "2                    66                       10            207   \n",
       "3                    63                        9            144   \n",
       "4                   103                       52            149   \n",
       "\n",
       "   ELONGATEDNESS  PR.AXIS_RECTANGULARITY  MAX.LENGTH_RECTANGULARITY  \\\n",
       "0             42                      20                        159   \n",
       "1             45                      19                        143   \n",
       "2             32                      23                        158   \n",
       "3             46                      19                        143   \n",
       "4             45                      19                        144   \n",
       "\n",
       "   SCALED_VARIANCE_MAJOR  SCALED_VARIANCE_MINOR  SCALED_RADIUS_OF_GYRATION  \\\n",
       "0                    176                    379                        184   \n",
       "1                    170                    330                        158   \n",
       "2                    223                    635                        220   \n",
       "3                    160                    309                        127   \n",
       "4                    241                    325                        188   \n",
       "\n",
       "   SKEWNESS_ABOUT_MAJOR  SKEWNESS_ABOUT_MINOR  KURTOSIS_ABOUT_MAJOR  \\\n",
       "0                    70                     6                    16   \n",
       "1                    72                     9                    14   \n",
       "2                    73                    14                     9   \n",
       "3                    63                     6                    10   \n",
       "4                   127                     9                    11   \n",
       "\n",
       "   KURTOSIS_ABOUT_MINOR  HOLLOWS_RATIO Class  \n",
       "0                   187            197   van  \n",
       "1                   189            199   van  \n",
       "2                   188            196  saab  \n",
       "3                   199            207   van  \n",
       "4                   180            183   bus  "
      ]
     },
     "execution_count": 34,
     "metadata": {},
     "output_type": "execute_result"
    }
   ],
   "source": [
    "# preview of the first 5 lines of the loaded data \n",
    "dataset.head()"
   ]
  },
  {
   "cell_type": "markdown",
   "metadata": {},
   "source": [
    "* ### Describe"
   ]
  },
  {
   "cell_type": "code",
   "execution_count": 35,
   "metadata": {},
   "outputs": [
    {
     "data": {
      "text/html": [
       "<div>\n",
       "<style scoped>\n",
       "    .dataframe tbody tr th:only-of-type {\n",
       "        vertical-align: middle;\n",
       "    }\n",
       "\n",
       "    .dataframe tbody tr th {\n",
       "        vertical-align: top;\n",
       "    }\n",
       "\n",
       "    .dataframe thead th {\n",
       "        text-align: right;\n",
       "    }\n",
       "</style>\n",
       "<table border=\"1\" class=\"dataframe\">\n",
       "  <thead>\n",
       "    <tr style=\"text-align: right;\">\n",
       "      <th></th>\n",
       "      <th>COMPACTNESS</th>\n",
       "      <th>CIRCULARITY</th>\n",
       "      <th>DISTANCE_CIRCULARITY</th>\n",
       "      <th>RADIUS_RATIO</th>\n",
       "      <th>PR.AXIS_ASPECT_RATIO</th>\n",
       "      <th>MAX.LENGTH_ASPECT_RATIO</th>\n",
       "      <th>SCATTER_RATIO</th>\n",
       "      <th>ELONGATEDNESS</th>\n",
       "      <th>PR.AXIS_RECTANGULARITY</th>\n",
       "      <th>MAX.LENGTH_RECTANGULARITY</th>\n",
       "      <th>SCALED_VARIANCE_MAJOR</th>\n",
       "      <th>SCALED_VARIANCE_MINOR</th>\n",
       "      <th>SCALED_RADIUS_OF_GYRATION</th>\n",
       "      <th>SKEWNESS_ABOUT_MAJOR</th>\n",
       "      <th>SKEWNESS_ABOUT_MINOR</th>\n",
       "      <th>KURTOSIS_ABOUT_MAJOR</th>\n",
       "      <th>KURTOSIS_ABOUT_MINOR</th>\n",
       "      <th>HOLLOWS_RATIO</th>\n",
       "    </tr>\n",
       "  </thead>\n",
       "  <tbody>\n",
       "    <tr>\n",
       "      <th>count</th>\n",
       "      <td>846.000000</td>\n",
       "      <td>846.000000</td>\n",
       "      <td>846.000000</td>\n",
       "      <td>846.000000</td>\n",
       "      <td>846.000000</td>\n",
       "      <td>846.000000</td>\n",
       "      <td>846.000000</td>\n",
       "      <td>846.000000</td>\n",
       "      <td>846.000000</td>\n",
       "      <td>846.000000</td>\n",
       "      <td>846.000000</td>\n",
       "      <td>846.000000</td>\n",
       "      <td>846.00000</td>\n",
       "      <td>846.000000</td>\n",
       "      <td>846.000000</td>\n",
       "      <td>846.000000</td>\n",
       "      <td>846.000000</td>\n",
       "      <td>846.000000</td>\n",
       "    </tr>\n",
       "    <tr>\n",
       "      <th>mean</th>\n",
       "      <td>93.678487</td>\n",
       "      <td>44.861702</td>\n",
       "      <td>82.088652</td>\n",
       "      <td>168.940898</td>\n",
       "      <td>61.693853</td>\n",
       "      <td>8.567376</td>\n",
       "      <td>168.839243</td>\n",
       "      <td>40.933806</td>\n",
       "      <td>20.582742</td>\n",
       "      <td>147.998818</td>\n",
       "      <td>188.625296</td>\n",
       "      <td>439.911348</td>\n",
       "      <td>174.70331</td>\n",
       "      <td>72.462175</td>\n",
       "      <td>6.377069</td>\n",
       "      <td>12.599291</td>\n",
       "      <td>188.932624</td>\n",
       "      <td>195.632388</td>\n",
       "    </tr>\n",
       "    <tr>\n",
       "      <th>std</th>\n",
       "      <td>8.234474</td>\n",
       "      <td>6.169866</td>\n",
       "      <td>15.771533</td>\n",
       "      <td>33.472183</td>\n",
       "      <td>7.888251</td>\n",
       "      <td>4.601217</td>\n",
       "      <td>33.244978</td>\n",
       "      <td>7.811560</td>\n",
       "      <td>2.592138</td>\n",
       "      <td>14.515652</td>\n",
       "      <td>31.394837</td>\n",
       "      <td>176.692614</td>\n",
       "      <td>32.54649</td>\n",
       "      <td>7.486974</td>\n",
       "      <td>4.918353</td>\n",
       "      <td>8.931240</td>\n",
       "      <td>6.163949</td>\n",
       "      <td>7.438797</td>\n",
       "    </tr>\n",
       "    <tr>\n",
       "      <th>min</th>\n",
       "      <td>73.000000</td>\n",
       "      <td>33.000000</td>\n",
       "      <td>40.000000</td>\n",
       "      <td>104.000000</td>\n",
       "      <td>47.000000</td>\n",
       "      <td>2.000000</td>\n",
       "      <td>112.000000</td>\n",
       "      <td>26.000000</td>\n",
       "      <td>17.000000</td>\n",
       "      <td>118.000000</td>\n",
       "      <td>130.000000</td>\n",
       "      <td>184.000000</td>\n",
       "      <td>109.00000</td>\n",
       "      <td>59.000000</td>\n",
       "      <td>0.000000</td>\n",
       "      <td>0.000000</td>\n",
       "      <td>176.000000</td>\n",
       "      <td>181.000000</td>\n",
       "    </tr>\n",
       "    <tr>\n",
       "      <th>25%</th>\n",
       "      <td>87.000000</td>\n",
       "      <td>40.000000</td>\n",
       "      <td>70.000000</td>\n",
       "      <td>141.000000</td>\n",
       "      <td>57.000000</td>\n",
       "      <td>7.000000</td>\n",
       "      <td>146.250000</td>\n",
       "      <td>33.000000</td>\n",
       "      <td>19.000000</td>\n",
       "      <td>137.000000</td>\n",
       "      <td>167.000000</td>\n",
       "      <td>318.250000</td>\n",
       "      <td>149.00000</td>\n",
       "      <td>67.000000</td>\n",
       "      <td>2.000000</td>\n",
       "      <td>5.000000</td>\n",
       "      <td>184.000000</td>\n",
       "      <td>190.250000</td>\n",
       "    </tr>\n",
       "    <tr>\n",
       "      <th>50%</th>\n",
       "      <td>93.000000</td>\n",
       "      <td>44.000000</td>\n",
       "      <td>80.000000</td>\n",
       "      <td>167.000000</td>\n",
       "      <td>61.000000</td>\n",
       "      <td>8.000000</td>\n",
       "      <td>157.000000</td>\n",
       "      <td>43.000000</td>\n",
       "      <td>20.000000</td>\n",
       "      <td>146.000000</td>\n",
       "      <td>178.500000</td>\n",
       "      <td>364.000000</td>\n",
       "      <td>173.00000</td>\n",
       "      <td>71.500000</td>\n",
       "      <td>6.000000</td>\n",
       "      <td>11.000000</td>\n",
       "      <td>188.000000</td>\n",
       "      <td>197.000000</td>\n",
       "    </tr>\n",
       "    <tr>\n",
       "      <th>75%</th>\n",
       "      <td>100.000000</td>\n",
       "      <td>49.000000</td>\n",
       "      <td>98.000000</td>\n",
       "      <td>195.000000</td>\n",
       "      <td>65.000000</td>\n",
       "      <td>10.000000</td>\n",
       "      <td>198.000000</td>\n",
       "      <td>46.000000</td>\n",
       "      <td>23.000000</td>\n",
       "      <td>159.000000</td>\n",
       "      <td>217.000000</td>\n",
       "      <td>587.000000</td>\n",
       "      <td>198.00000</td>\n",
       "      <td>75.000000</td>\n",
       "      <td>9.000000</td>\n",
       "      <td>19.000000</td>\n",
       "      <td>193.000000</td>\n",
       "      <td>201.000000</td>\n",
       "    </tr>\n",
       "    <tr>\n",
       "      <th>max</th>\n",
       "      <td>119.000000</td>\n",
       "      <td>59.000000</td>\n",
       "      <td>112.000000</td>\n",
       "      <td>333.000000</td>\n",
       "      <td>138.000000</td>\n",
       "      <td>55.000000</td>\n",
       "      <td>265.000000</td>\n",
       "      <td>61.000000</td>\n",
       "      <td>29.000000</td>\n",
       "      <td>188.000000</td>\n",
       "      <td>320.000000</td>\n",
       "      <td>1018.000000</td>\n",
       "      <td>268.00000</td>\n",
       "      <td>135.000000</td>\n",
       "      <td>22.000000</td>\n",
       "      <td>41.000000</td>\n",
       "      <td>206.000000</td>\n",
       "      <td>211.000000</td>\n",
       "    </tr>\n",
       "  </tbody>\n",
       "</table>\n",
       "</div>"
      ],
      "text/plain": [
       "       COMPACTNESS  CIRCULARITY  DISTANCE_CIRCULARITY  RADIUS_RATIO  \\\n",
       "count   846.000000   846.000000            846.000000    846.000000   \n",
       "mean     93.678487    44.861702             82.088652    168.940898   \n",
       "std       8.234474     6.169866             15.771533     33.472183   \n",
       "min      73.000000    33.000000             40.000000    104.000000   \n",
       "25%      87.000000    40.000000             70.000000    141.000000   \n",
       "50%      93.000000    44.000000             80.000000    167.000000   \n",
       "75%     100.000000    49.000000             98.000000    195.000000   \n",
       "max     119.000000    59.000000            112.000000    333.000000   \n",
       "\n",
       "       PR.AXIS_ASPECT_RATIO  MAX.LENGTH_ASPECT_RATIO  SCATTER_RATIO  \\\n",
       "count            846.000000               846.000000     846.000000   \n",
       "mean              61.693853                 8.567376     168.839243   \n",
       "std                7.888251                 4.601217      33.244978   \n",
       "min               47.000000                 2.000000     112.000000   \n",
       "25%               57.000000                 7.000000     146.250000   \n",
       "50%               61.000000                 8.000000     157.000000   \n",
       "75%               65.000000                10.000000     198.000000   \n",
       "max              138.000000                55.000000     265.000000   \n",
       "\n",
       "       ELONGATEDNESS  PR.AXIS_RECTANGULARITY  MAX.LENGTH_RECTANGULARITY  \\\n",
       "count     846.000000              846.000000                 846.000000   \n",
       "mean       40.933806               20.582742                 147.998818   \n",
       "std         7.811560                2.592138                  14.515652   \n",
       "min        26.000000               17.000000                 118.000000   \n",
       "25%        33.000000               19.000000                 137.000000   \n",
       "50%        43.000000               20.000000                 146.000000   \n",
       "75%        46.000000               23.000000                 159.000000   \n",
       "max        61.000000               29.000000                 188.000000   \n",
       "\n",
       "       SCALED_VARIANCE_MAJOR  SCALED_VARIANCE_MINOR  \\\n",
       "count             846.000000             846.000000   \n",
       "mean              188.625296             439.911348   \n",
       "std                31.394837             176.692614   \n",
       "min               130.000000             184.000000   \n",
       "25%               167.000000             318.250000   \n",
       "50%               178.500000             364.000000   \n",
       "75%               217.000000             587.000000   \n",
       "max               320.000000            1018.000000   \n",
       "\n",
       "       SCALED_RADIUS_OF_GYRATION  SKEWNESS_ABOUT_MAJOR  SKEWNESS_ABOUT_MINOR  \\\n",
       "count                  846.00000            846.000000            846.000000   \n",
       "mean                   174.70331             72.462175              6.377069   \n",
       "std                     32.54649              7.486974              4.918353   \n",
       "min                    109.00000             59.000000              0.000000   \n",
       "25%                    149.00000             67.000000              2.000000   \n",
       "50%                    173.00000             71.500000              6.000000   \n",
       "75%                    198.00000             75.000000              9.000000   \n",
       "max                    268.00000            135.000000             22.000000   \n",
       "\n",
       "       KURTOSIS_ABOUT_MAJOR  KURTOSIS_ABOUT_MINOR  HOLLOWS_RATIO  \n",
       "count            846.000000            846.000000     846.000000  \n",
       "mean              12.599291            188.932624     195.632388  \n",
       "std                8.931240              6.163949       7.438797  \n",
       "min                0.000000            176.000000     181.000000  \n",
       "25%                5.000000            184.000000     190.250000  \n",
       "50%               11.000000            188.000000     197.000000  \n",
       "75%               19.000000            193.000000     201.000000  \n",
       "max               41.000000            206.000000     211.000000  "
      ]
     },
     "execution_count": 35,
     "metadata": {},
     "output_type": "execute_result"
    }
   ],
   "source": [
    "dataset.describe()"
   ]
  },
  {
   "cell_type": "markdown",
   "metadata": {},
   "source": [
    "* ### 'Class' attribute value counts and visualisation"
   ]
  },
  {
   "cell_type": "code",
   "execution_count": 36,
   "metadata": {},
   "outputs": [
    {
     "ename": "NameError",
     "evalue": "name 'target_attributes_counts' is not defined",
     "output_type": "error",
     "traceback": [
      "\u001b[1;31m---------------------------------------------------------------------------\u001b[0m",
      "\u001b[1;31mNameError\u001b[0m                                 Traceback (most recent call last)",
      "\u001b[1;32m<ipython-input-36-cc185f70528f>\u001b[0m in \u001b[0;36m<module>\u001b[1;34m\u001b[0m\n\u001b[0;32m      1\u001b[0m \u001b[1;31m# target attribute value counts and visualisation\u001b[0m\u001b[1;33m\u001b[0m\u001b[1;33m\u001b[0m\u001b[1;33m\u001b[0m\u001b[0m\n\u001b[1;32m----> 2\u001b[1;33m \u001b[0mtarget_attributes_counts\u001b[0m\u001b[1;33m(\u001b[0m\u001b[0mdataset\u001b[0m\u001b[1;33m)\u001b[0m\u001b[1;33m\u001b[0m\u001b[1;33m\u001b[0m\u001b[0m\n\u001b[0m",
      "\u001b[1;31mNameError\u001b[0m: name 'target_attributes_counts' is not defined"
     ]
    }
   ],
   "source": [
    "# target attribute value counts and visualisation\n",
    "target_attributes_counts(dataset)"
   ]
  },
  {
   "cell_type": "markdown",
   "metadata": {},
   "source": [
    "Our dataset is balanced."
   ]
  },
  {
   "cell_type": "markdown",
   "metadata": {},
   "source": [
    "* ### Label encoder for 'Class' attribute"
   ]
  },
  {
   "cell_type": "code",
   "execution_count": null,
   "metadata": {
    "scrolled": false
   },
   "outputs": [],
   "source": [
    "# label encoder for 'Class' attribute\n",
    "le = LabelEncoder()\n",
    "dataset['Class'] = le.fit_transform(dataset['Class'])\n",
    "dataset.head()"
   ]
  },
  {
   "cell_type": "markdown",
   "metadata": {},
   "source": [
    "* ###  Vizualisation of all attributes"
   ]
  },
  {
   "cell_type": "code",
   "execution_count": null,
   "metadata": {},
   "outputs": [],
   "source": [
    "# vizualisation of all attributes\n",
    "one = ['Class', 'ELONGATEDNESS', 'SCALED_VARIANCE_MAJOR', 'SCALED_VARIANCE_MINOR', 'SCATTER_RATIO', 'PR.AXIS_RECTANGULARITY', 'HOLLOWS_RATIO']\n",
    "two = ['Class', 'SCALED_RADIUS_OF_GYRATION', 'SKEWNESS_ABOUT_MAJOR', 'MAX.LENGTH_ASPECT_RATIO', 'CIRCULARITY', 'RADIUS_RATIO', 'SKEWNESS_ABOUT_MINOR']\n",
    "three = ['Class', 'PR.AXIS_ASPECT_RATIO','KURTOSIS_ABOUT_MINOR','DISTANCE_CIRCULARITY','MAX.LENGTH_RECTANGULARITY','KURTOSIS_ABOUT_MAJOR','COMPACTNESS']"
   ]
  },
  {
   "cell_type": "code",
   "execution_count": null,
   "metadata": {
    "scrolled": false
   },
   "outputs": [],
   "source": [
    "all_attrubutes_vizual(dataset, one, two, three)"
   ]
  },
  {
   "cell_type": "markdown",
   "metadata": {},
   "source": [
    "* ###  Correlation list and plot of each attribute"
   ]
  },
  {
   "cell_type": "code",
   "execution_count": null,
   "metadata": {},
   "outputs": [],
   "source": [
    "# correlation list and plot of each attribute\n",
    "corr_plot_list(dataset)"
   ]
  },
  {
   "cell_type": "markdown",
   "metadata": {},
   "source": [
    "* ### Drop column 'Class'"
   ]
  },
  {
   "cell_type": "code",
   "execution_count": null,
   "metadata": {},
   "outputs": [],
   "source": [
    "dataset = dataset.drop(columns=['Class'])"
   ]
  },
  {
   "cell_type": "markdown",
   "metadata": {},
   "source": [
    "## Part 3: Data Wrangling and Transformation."
   ]
  },
  {
   "cell_type": "markdown",
   "metadata": {},
   "source": [
    "* ### StandardScaler"
   ]
  },
  {
   "cell_type": "code",
   "execution_count": null,
   "metadata": {},
   "outputs": [],
   "source": [
    "# StandardScaler \n",
    "sc = StandardScaler()\n",
    "dataset_sc = sc.fit_transform(dataset)\n",
    "dataset_sc = pd.DataFrame(dataset_sc)\n",
    "dataset_sc.head()"
   ]
  },
  {
   "cell_type": "markdown",
   "metadata": {},
   "source": [
    "* ### Creating datasets for ML part"
   ]
  },
  {
   "cell_type": "code",
   "execution_count": null,
   "metadata": {},
   "outputs": [],
   "source": [
    "# set 'X' for features' and y' for the target ('Class').\n",
    "X = dataset_sc.copy()\n",
    "y = target"
   ]
  },
  {
   "cell_type": "markdown",
   "metadata": {},
   "source": [
    "* ### 'Train\\Test' split"
   ]
  },
  {
   "cell_type": "code",
   "execution_count": null,
   "metadata": {},
   "outputs": [],
   "source": [
    "# apply 'Train\\Test' splitting method\n",
    "X_train, X_test, y_train, y_test = train_test_split(X, y, test_size=0.24, random_state=0)"
   ]
  },
  {
   "cell_type": "code",
   "execution_count": null,
   "metadata": {},
   "outputs": [],
   "source": [
    "# print shape of X_train and y_train\n",
    "X_train.shape, y_train.shape"
   ]
  },
  {
   "cell_type": "code",
   "execution_count": null,
   "metadata": {
    "scrolled": true
   },
   "outputs": [],
   "source": [
    "# print shape of X_test and y_test\n",
    "X_test.shape, y_test.shape"
   ]
  },
  {
   "cell_type": "markdown",
   "metadata": {},
   "source": [
    "## Part 4: Machine Learning."
   ]
  },
  {
   "cell_type": "markdown",
   "metadata": {},
   "source": [
    "* ### Build, train and evaluate model"
   ]
  },
  {
   "cell_type": "markdown",
   "metadata": {},
   "source": [
    "* SVC model"
   ]
  },
  {
   "cell_type": "code",
   "execution_count": null,
   "metadata": {},
   "outputs": [],
   "source": [
    "classifier = SVC(kernel='linear', decision_function_shape='ovo', tol=0.03)\n",
    "classifier.fit(X_train, y_train)\n",
    "SVC_pred = classifier.predict(X_test)\n",
    "accuracy = accuracy_score(SVC_pred, y_test)\n",
    "print(\"Accuracy:\", accuracy * 100)"
   ]
  },
  {
   "cell_type": "markdown",
   "metadata": {},
   "source": [
    "* ### Classification report"
   ]
  },
  {
   "cell_type": "code",
   "execution_count": null,
   "metadata": {
    "scrolled": true
   },
   "outputs": [],
   "source": [
    "print(\"SVC Classification Report: \\n\", classification_report(y_test, SVC_pred, digits = 6))"
   ]
  },
  {
   "cell_type": "markdown",
   "metadata": {},
   "source": [
    "Вывод:\n",
    "* SVC linear model показывает достаточно хорошую метрику accuracy = 80.8% или 80.88235294117648;;\n",
    "* Количество примеров классов представленных в тестовом сете данных (204 примера): \"bus\"=46, \"opel\"=48, \"saab\"=63, \"van\"=47;\n",
    "* По метрике f1-score сразу можно сказать, что лучше всех определился класс \"van\", за ним класс \"bus\", далее класс \"saab\", и хуже всех класс \"opel\". Давайте проверим это на confusion matrix."
   ]
  },
  {
   "cell_type": "markdown",
   "metadata": {},
   "source": [
    "* ### Confusion matrix"
   ]
  },
  {
   "cell_type": "code",
   "execution_count": null,
   "metadata": {
    "scrolled": true
   },
   "outputs": [],
   "source": [
    "# confusion matrix of SVC model\n",
    "labels = [\"bus\", \"opel\", \"saab\", \"van\"]\n",
    "cm = confusion_matrix(y_test, SVC_pred, labels=None)\n",
    "print('SVC Confusion Matrix')\n",
    "\n",
    "# visualisation of matrix\n",
    "df_cm = pd.DataFrame(cm, index=labels, columns=labels)\n",
    "sns.heatmap(df_cm, annot=True, fmt=\"d\", cmap = 'Blues', linewidths = 0.5, annot_kws = {'size': 15})\n",
    "plt.ylabel(\"Actual Vehicle Class\")\n",
    "plt.xlabel(\"Predicted Vehicle Class\")    \n",
    "plt.show()"
   ]
  },
  {
   "cell_type": "markdown",
   "metadata": {},
   "source": [
    "* ### Misclassification plot"
   ]
  },
  {
   "cell_type": "code",
   "execution_count": null,
   "metadata": {},
   "outputs": [],
   "source": [
    "# misclassification vehicle plot \n",
    "for label in df_cm.columns:\n",
    "    df_cm.at[label, label] = 0\n",
    "    \n",
    "ax = df_cm.plot(kind=\"bar\", title=\"Misclassified Vehicle Classes\")\n",
    "ax.set_xlabel(\"Vehicle Classes\")\n",
    "ax.set_ylabel(\"Number of Incorrectly Predicted Class\")    \n",
    "plt.show()"
   ]
  },
  {
   "cell_type": "markdown",
   "metadata": {},
   "source": [
    "Вывод:\n",
    "* класс \"van\": _верно определен_ 47 раз из 47 примеров; _неверно определен в других классах_ 2 раза, _другие классы неверно определены в данном классе_ 0 раз.\n",
    "* класс \"bus\": _верно определен_ 46 раз из 46 примеров; _неверно определен в других классах_ 5 раз, _другие классы неверно определены в данном классе_ 0 раз.\n",
    "* класс \"saab\": _верно определен_ 40 раз из 63 примеров; _неверно определен в других классах_ 15 раз, _другие классы неверно определены в данном классе_ 23 раз.\n",
    "* класс \"opel\": _верно определен_ 32 раза из 48 примеров; _неверно определен в других классах_ 17 раз, _другие классы неверно определены в данном классе_ 16 раз."
   ]
  },
  {
   "cell_type": "markdown",
   "metadata": {},
   "source": [
    "* ### Comparison table between Actual 'Class' and Predicted 'Class'"
   ]
  },
  {
   "cell_type": "code",
   "execution_count": null,
   "metadata": {},
   "outputs": [],
   "source": [
    "# comparison table between Actual 'Class' and Predicted 'Class'\n",
    "actualvspredicted = pd.DataFrame({\"Actual Vehicle Class\":y_test,\"SVC Predicted Vehicle Class\":SVC_pred})\n",
    "actualvspredicted.head(10)\n"
   ]
  },
  {
   "cell_type": "markdown",
   "metadata": {},
   "source": [
    "##  Conclusion."
   ]
  },
  {
   "cell_type": "code",
   "execution_count": null,
   "metadata": {},
   "outputs": [],
   "source": [
    "# submission of .csv file with test predictions\n",
    "sub = pd.DataFrame()\n",
    "sub['ID'] = X_test.index\n",
    "sub['Class'] = SVC_pred\n",
    "sub.to_csv('ShortVehiclesPredictionsTest.csv', index=False)"
   ]
  },
  {
   "cell_type": "markdown",
   "metadata": {},
   "source": [
    "**Question**: Определите класс транспортного средства по набору данных, описывающих геометрические особенности силуэтов транспортных средств, полученных по фотографиям для распознавания изображений (use multi-class classification; check balance of classes; calculate perdictions).\n",
    "\n",
    "**Answers**:\n",
    "\n",
    "1. Multi-class classification was applied.\n",
    "\n",
    "2. Classes were balanced in our dataset. \n",
    "    \n",
    "3. SVC model was used for ML process.\n",
    "\n",
    "4. Result: \n",
    "    * Train/Test split: test_size=0.24, random_state=0;\n",
    "    * SVC linear model показывает достаточно хорошую метрику accuracy = 80.8% или 80.88235294117648;\n",
    "    * Сonfusion matrix показывает, что из 204 примеров тестовых данных были верно определены 165 примеров и неверно определены 39 примеров;\n",
    "    * Сonfusion matrix так же показывает, что самыми хорошо определяемыми классами являются \"van\" и \"bus\", а самыми трудно определяемыми \"saab\" и \"opel\"."
   ]
  },
  {
   "cell_type": "code",
   "execution_count": null,
   "metadata": {},
   "outputs": [],
   "source": []
  }
 ],
 "metadata": {
  "kernelspec": {
   "display_name": "Python 3",
   "language": "python",
   "name": "python3"
  },
  "language_info": {
   "codemirror_mode": {
    "name": "ipython",
    "version": 3
   },
   "file_extension": ".py",
   "mimetype": "text/x-python",
   "name": "python",
   "nbconvert_exporter": "python",
   "pygments_lexer": "ipython3",
   "version": "3.9.1"
  }
 },
 "nbformat": 4,
 "nbformat_minor": 2
}
